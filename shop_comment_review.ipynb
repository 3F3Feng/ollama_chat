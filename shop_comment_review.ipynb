{
 "cells": [
  {
   "cell_type": "code",
   "execution_count": 57,
   "metadata": {},
   "outputs": [],
   "source": [
    "import json\n",
    "import openpyxl\n",
    "\n",
    "# Load the workbook\n",
    "wb = openpyxl.load_workbook('shop_site.xlsx')\n",
    "\n",
    "comments_of_shops = {}\n",
    "# Iterate over each sheet\n",
    "for sheet_name in wb.sheetnames:\n",
    "    if sheet_name == 'Sheet1':\n",
    "        continue\n",
    "    # Select the sheet\n",
    "    sheet = wb[sheet_name]\n",
    "\n",
    "    comments = []\n",
    "\n",
    "    # Get the row values (assuming first row is title)\n",
    "    titles = [cell.value for cell in sheet[1]]\n",
    "\n",
    "    # skip if empty\n",
    "    if not titles:\n",
    "        continue\n",
    "\n",
    "    # Iterate over each row starting from 2nd row (assuming first row is title)\n",
    "    for row_num in range(2, sheet.max_row + 1):\n",
    "        comment = {}\n",
    "        # Get the row values\n",
    "        row_values = [cell.value for cell in sheet[row_num]]\n",
    "        for i in range(len(titles)):\n",
    "            comment[titles[i]] = row_values[i]\n",
    "        comments.append(comment)\n",
    "    comments_of_shops[sheet_name] = comments\n",
    "\n",
    "with open('comments_of_shops.json', 'w', encoding='utf-8') as f:\n",
    "    f.write(json.dumps(comments_of_shops, ensure_ascii=False))\n"
   ]
  },
  {
   "cell_type": "code",
   "execution_count": 58,
   "metadata": {},
   "outputs": [],
   "source": [
    "import json\n",
    "# print(open('comments_of_shops.json','r').read())\n",
    "comments_of_shops = json.loads(open('comments_of_shops.json','r').read())"
   ]
  },
  {
   "cell_type": "code",
   "execution_count": 61,
   "metadata": {},
   "outputs": [
    {
     "name": "stdout",
     "output_type": "stream",
     "text": [
      "再现山海经·大型沉浸式体验馆\n"
     ]
    },
    {
     "name": "stderr",
     "output_type": "stream",
     "text": [
      "100%|██████████| 2/2 [00:12<00:00,  6.25s/it]\n"
     ]
    },
    {
     "name": "stdout",
     "output_type": "stream",
     "text": [
      "印象莫奈时光映迹艺术展2023-成都站\n"
     ]
    },
    {
     "name": "stderr",
     "output_type": "stream",
     "text": [
      "100%|██████████| 122/122 [06:43<00:00,  3.31s/it]\n"
     ]
    },
    {
     "name": "stdout",
     "output_type": "stream",
     "text": [
      "致敬达芬奇2.0光影艺术体验大展\n"
     ]
    },
    {
     "name": "stderr",
     "output_type": "stream",
     "text": [
      "100%|██████████| 255/255 [13:46<00:00,  3.24s/it]\n"
     ]
    },
    {
     "name": "stdout",
     "output_type": "stream",
     "text": [
      "熊猫星球沉浸式光影大展(北京馆)\n"
     ]
    },
    {
     "name": "stderr",
     "output_type": "stream",
     "text": [
      "100%|██████████| 262/262 [14:36<00:00,  3.34s/it]\n"
     ]
    },
    {
     "name": "stdout",
     "output_type": "stream",
     "text": [
      "熊猫星球沉浸式光影大展-杜威中心Dewey Center\n"
     ]
    },
    {
     "name": "stderr",
     "output_type": "stream",
     "text": [
      "0it [00:00, ?it/s]\n"
     ]
    },
    {
     "name": "stdout",
     "output_type": "stream",
     "text": [
      "你好三星堆沉浸式光影艺术展\n"
     ]
    },
    {
     "name": "stderr",
     "output_type": "stream",
     "text": [
      "0it [00:00, ?it/s]\n"
     ]
    },
    {
     "name": "stdout",
     "output_type": "stream",
     "text": [
      "遇见博物馆·遇见莫扎特(静安店)\n"
     ]
    },
    {
     "name": "stderr",
     "output_type": "stream",
     "text": [
      "0it [00:00, ?it/s]\n"
     ]
    },
    {
     "name": "stdout",
     "output_type": "stream",
     "text": [
      "一梦华胥——中国皮影光影艺术展\n"
     ]
    },
    {
     "name": "stderr",
     "output_type": "stream",
     "text": [
      "0it [00:00, ?it/s]\n"
     ]
    },
    {
     "name": "stdout",
     "output_type": "stream",
     "text": [
      "遇见博物馆·上海静安馆\n"
     ]
    },
    {
     "name": "stderr",
     "output_type": "stream",
     "text": [
      "0it [00:00, ?it/s]\n"
     ]
    },
    {
     "name": "stdout",
     "output_type": "stream",
     "text": [
      "深空未来·8K超'高清沉浸探索空间\n"
     ]
    },
    {
     "name": "stderr",
     "output_type": "stream",
     "text": [
      "100%|██████████| 506/506 [25:59<00:00,  3.08s/it]\n"
     ]
    },
    {
     "name": "stdout",
     "output_type": "stream",
     "text": [
      "BRANDX·深蓝 第二季——沉浸式海洋数字艺术展\n"
     ]
    },
    {
     "name": "stderr",
     "output_type": "stream",
     "text": [
      "100%|██████████| 750/750 [58:55<00:00,  4.71s/it]  \n"
     ]
    },
    {
     "name": "stdout",
     "output_type": "stream",
     "text": [
      "上海梵高星空艺术馆\n"
     ]
    },
    {
     "name": "stderr",
     "output_type": "stream",
     "text": [
      "100%|██████████| 750/750 [46:32<00:00,  3.72s/it] \n"
     ]
    },
    {
     "name": "stdout",
     "output_type": "stream",
     "text": [
      "探秘山海经大型沉浸艺术馆\n"
     ]
    },
    {
     "name": "stderr",
     "output_type": "stream",
     "text": [
      " 67%|██████▋   | 657/975 [37:54<12:48,  2.42s/it]  "
     ]
    },
    {
     "name": "stdout",
     "output_type": "stream",
     "text": [
      "请您提供用户评论内容，我会按照您的要求进行分析并给出评分。  \n",
      "\n"
     ]
    },
    {
     "name": "stderr",
     "output_type": "stream",
     "text": [
      " 76%|███████▌  | 739/975 [42:44<07:01,  1.78s/it]"
     ]
    },
    {
     "name": "stdout",
     "output_type": "stream",
     "text": [
      "请您提供用户评论内容，我将根据您的要求进行分析和评分。 \n",
      "\n"
     ]
    },
    {
     "name": "stderr",
     "output_type": "stream",
     "text": [
      " 92%|█████████▏| 898/975 [50:26<03:38,  2.84s/it]"
     ]
    },
    {
     "name": "stdout",
     "output_type": "stream",
     "text": [
      "请您提供用户评论内容，我会根据您的要求进行分析和评分。 \n",
      "\n",
      "\n",
      "\n"
     ]
    },
    {
     "name": "stderr",
     "output_type": "stream",
     "text": [
      "100%|██████████| 975/975 [55:13<00:00,  3.40s/it]\n"
     ]
    },
    {
     "name": "stdout",
     "output_type": "stream",
     "text": [
      "图坦卡蒙·探秘古埃及沉浸展\n"
     ]
    },
    {
     "name": "stderr",
     "output_type": "stream",
     "text": [
      "100%|██████████| 148/148 [07:32<00:00,  3.06s/it]\n"
     ]
    },
    {
     "name": "stdout",
     "output_type": "stream",
     "text": [
      "梵高全沉浸式艺术馆\n"
     ]
    },
    {
     "name": "stderr",
     "output_type": "stream",
     "text": [
      "100%|██████████| 38/38 [01:57<00:00,  3.10s/it]\n"
     ]
    }
   ],
   "source": [
    "import re\n",
    "from tqdm import tqdm\n",
    "from ollama_chat import chat_reponse\n",
    "llama3 = 'llama3'\n",
    "gemma2 = 'gemma2:9b-instruct-q6_K'\n",
    "gemma2_b = 'gemma2:27b-instruct-q5_K_M'\n",
    "qwen2 = 'qwen2:7b-instruct-q6_K'\n",
    "\n",
    "keys = ['value', 'immersive', 'guidance', 'followup', 'content']\n",
    "# a regex string that matches the first five 1 digit numbers seperated by spaces to these keys: value, immersive, guidance, followup, and content. Then all other charactors that follows\n",
    "review_re = r'(?P<value>\\d)\\s(?P<immersive>\\d)\\s(?P<guidance>\\d)\\s(?P<followup>\\d)\\s(?P<content>\\d)(?P<reason>.*)'\n",
    "\n",
    "for shop in comments_of_shops:\n",
    "    print(shop)\n",
    "    comments = comments_of_shops[shop]\n",
    "    for comment in tqdm(comments):\n",
    "        if comment.get('reason'):\n",
    "            continue\n",
    "        text = comment.get('Content')\n",
    "        if not text:\n",
    "            continue\n",
    "        message = \\\n",
    "        \"\"\"用户将输入来自某沉浸式艺术展的用户评论，请完整地阅读评论并对它进行分析。\n",
    "        ###\n",
    "        按照下面的五个方面对他进行打分：\n",
    "        1. 性价比不高：消费者对于性价比有负面评价，这种评价来源于期望与实际体验之间的不匹配\n",
    "        2. 沉浸体验很差：消费者对于付费进行沉浸体验本身的轻视、不尊重或不认可\n",
    "        3. 体验引导不清晰：消费者常因体验的缺乏引导性而产生迷失感，对整体体验感到不满\n",
    "        4. 后续消费环节/后续服务不充足：消费者在体验结束后仍对体验持续性有更高期待，认为缺少后续环节如周边，纪念品，收集品，信息交流渠道等\n",
    "        5. 展览内容的负面评价：消费者对于沉浸展览的主题内容有负面评价，认为主题内容难以接受，例如太抽象、无法理解、看不懂等\n",
    "        \n",
    "        ###\n",
    "        每一方面总分为5分，只能打整数分。\n",
    "        评分时完全基于用户评价的文字内容，每个分数都要有自己参考的评论内容。\n",
    "        只有评论中出现这一方面的负面评论时，才进行扣分。评价越消极扣分越多。\n",
    "        分数越低说明这个评价包含的评价越符合这一个方面的描述。\n",
    "\n",
    "        ###\n",
    "        如果评论中没有提及某一个方面的相关信息，则这个方面评满分。\n",
    "        如果需要推测评论者在这个方面的态度，则直接评满分。\n",
    "        不要进行任何的推测，如果没有相关的信息直接评满分。\n",
    "\n",
    "        ###\n",
    "        在进行回复时，请严格按照以下格式：\n",
    "        <分数一> <分数二> <分数三> <分数四> <分数五>\n",
    "        <评价理由>\n",
    "\n",
    "        ###\n",
    "        不要在回复中添加任何的前缀！\n",
    "        评分理由中对每一个分数给出分别给出理由。\n",
    "        \"\"\"\n",
    "        review = chat_reponse(text, model=gemma2, system_prompt=message)\n",
    "        # print(text)\n",
    "        # print(review['message']['content'])\n",
    "        try:\n",
    "            match_dict = re.match(review_re, review['message']['content'], re.DOTALL).groupdict()\n",
    "        except AttributeError:\n",
    "            print(review['message']['content'])\n",
    "            continue\n",
    "        for key, value in match_dict.items():\n",
    "            if key == 'reason':\n",
    "                value = value.strip()\n",
    "            comment[key] = value\n",
    "\n",
    "with open('comments_of_shops_with_review.json', 'w', encoding='utf-8') as f:\n",
    "    f.write(json.dumps(comments_of_shops, ensure_ascii=False))"
   ]
  }
 ],
 "metadata": {
  "kernelspec": {
   "display_name": "llm",
   "language": "python",
   "name": "python3"
  },
  "language_info": {
   "codemirror_mode": {
    "name": "ipython",
    "version": 3
   },
   "file_extension": ".py",
   "mimetype": "text/x-python",
   "name": "python",
   "nbconvert_exporter": "python",
   "pygments_lexer": "ipython3",
   "version": "3.12.4"
  }
 },
 "nbformat": 4,
 "nbformat_minor": 2
}
